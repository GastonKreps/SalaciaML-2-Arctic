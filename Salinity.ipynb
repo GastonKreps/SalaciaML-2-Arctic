{
 "cells": [
  {
   "cell_type": "markdown",
   "id": "defc323b-c8a4-4f4d-936c-873d47b8fcd8",
   "metadata": {},
   "source": [
    "# Import necessary libraries"
   ]
  },
  {
   "cell_type": "code",
   "execution_count": null,
   "id": "aeceed16-d8ef-4d8f-ad8c-6155ceb436c9",
   "metadata": {},
   "outputs": [],
   "source": [
    "import pandas as pd\n",
    "import numpy as np\n",
    "import sys\n",
    "from sklearn.preprocessing import StandardScaler\n",
    "from sklearn.utils.class_weight import compute_class_weight\n",
    "from keras.models import Sequential, load_model\n",
    "from keras.layers import Dense, Dropout\n",
    "from keras.callbacks import ModelCheckpoint\n",
    "from sklearn.metrics import confusion_matrix\n",
    "import tensorflow as tf"
   ]
  },
  {
   "cell_type": "markdown",
   "id": "830bcc32-0ff0-42c8-99be-b2294ae9c0f9",
   "metadata": {},
   "source": [
    "# Read data\n"
   ]
  },
