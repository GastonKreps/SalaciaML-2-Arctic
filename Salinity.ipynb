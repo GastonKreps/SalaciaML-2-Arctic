# Train The Model - Salinity

# Import necessary libraries

import pandas as pd
pd.options.mode.chained_assignment = None  
from matplotlib import pyplot as plt
import sys
import glob, os
from sklearn.preprocessing import MinMaxScaler
import numpy as np
import random
from sklearn.metrics import confusion_matrix, roc_curve, auc, precision_recall_curve
import datetime
import tensorflow as tf 
from keras.models import Sequential,load_model
from keras.layers import Dense, Dropout
from keras import initializers, regularizers
from keras.callbacks import ModelCheckpoint
from sklearn.preprocessing import StandardScaler
from sklearn.utils.class_weight import compute_class_weight
